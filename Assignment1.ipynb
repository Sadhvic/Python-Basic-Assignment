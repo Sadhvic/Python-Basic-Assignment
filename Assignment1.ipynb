{
 "cells": [
  {
   "cell_type": "markdown",
   "id": "2cd0288a-4b99-411c-a7cd-8b89331318cf",
   "metadata": {},
   "source": [
    "\n",
    "\n",
    "**1. In the below elements which of them are values or an expression? eg:- values can be**\n",
    "**integer or string and expressions will be mathematical operators.**\n",
    "\n",
    "* , - , / , + are Expression\n",
    "\n",
    "'hello' , -87.8 , 6 are Values"
   ]
  },
  {
   "cell_type": "markdown",
   "id": "3dd33cc6-9478-4a7d-ab74-0b251714936f",
   "metadata": {},
   "source": [
    "**2. What is the difference between string and variable?**\n",
    "\n",
    "Strings:-\n",
    "* They are type of data that represent text\n",
    "* string is a class or a reference datatype in python\n",
    "* to create a string literal single or double codes are used\n",
    "\n",
    "Variables:-\n",
    "* Its a name that can refer to any value\n",
    "* Variable used to store or access values\n",
    "\n",
    "eg:-x=\"hello\"  -> x is value and \"hello\" is a variable "
   ]
  },
  {
   "cell_type": "markdown",
   "id": "65ebb096-21b8-442e-bddb-42a2a8f3efb4",
   "metadata": {},
   "source": [
    "**3. Describe three different data types.**\n",
    "\n",
    "* **int:-** integers are whole numbers that can be positive, negative, or 0.   \n",
    "  _eg 7,45..._\n",
    "* **string:-** A string is a sequence of one or more characters that can be either a constant or a variable.     \n",
    "  _eg:- hello,bye_\n",
    "* **float:-** A floating-point number can be either a rational or an irrational number. floating-point numbers can be numbers that can   contain a fractional part, such as 9.0 or -116.42. In general.\n",
    "  float in a Python program, it is a number that contains a decimal point."
   ]
  },
  {
   "cell_type": "markdown",
   "id": "c9eeae75-a0e9-41bf-843c-46be497d7bdc",
   "metadata": {},
   "source": [
    "**4. What is an expression made up of? What do all expressions do?**\n",
    "\n",
    "* Expression: An expression is a combination of operators, constants and variables. An expression may consist of one or more operands, and zero   or more operators to produce a value.\n",
    " 1. Constant expressions: Constant Expressions consists of only constant values. A constant value is one that doesn’t change.\n",
    "    Examples:\n",
    "2. Integral expressions: Integral Expressions are those which produce integer results after implementing all the automatic and explicit type      conversions.\n",
    " \n",
    "3. Floating expressions: Float Expressions are which produce floating point results after implementing all the automatic and explicit type        conversions.\n",
    "\n",
    "4. Relational expressions: Relational Expressions yield results of type bool which takes a value true or false. When arithmetic expressions are    used on either side of a relational operator, they will be evaluated first and then the results compared. Relational expressions are also      known as Boolean expressions.\n",
    "5. Bitwise expressions: Bitwise Expressions are used to manipulate data at bit level. They are basically used for testing or shifting bits.\n",
    "6. Logical expressions: Logical Expressions combine two or more relational expressions and produces bool type results.\n",
    "7. Pointer expressions: Pointer Expressions produce address values.\n"
   ]
  },
  {
   "cell_type": "markdown",
   "id": "a45b7989-9d04-4a05-bdb6-5bbbde745a60",
   "metadata": {},
   "source": [
    "**5. This assignment statements, like spam = 10. What is the difference between an\n",
    "expression and a statement?**\n",
    "\n",
    "* Expressions can be assigned or used as operands, while statements can only be declared.\n",
    "* Statements create side effects to be useful, while expressions are values or execute to values.\n",
    "* Expressions are unique in meaning, while statements are two-sided in execution. For example, 1 has a certain value while go( ) may be executed or not.\n",
    "* Statements are the whole structure, while expressions are the building blocks. For example, a line or a block of code is a statement."
   ]
  },
  {
   "cell_type": "markdown",
   "id": "c91d83c5-311a-42a1-925c-1ec9f6a78951",
   "metadata": {},
   "source": [
    "**6. After running the following code, what does the variable bacon contain?  \n",
    "bacon = 22  \n",
    "bacon + 1**\n",
    "\n",
    "\n",
    "Ans :- 23"
   ]
  },
  {
   "cell_type": "markdown",
   "id": "74ed3565-4dbc-45a4-a2e4-7a91e286f49c",
   "metadata": {},
   "source": [
    "**7.**  \n",
    "spamspamspam  \n",
    "spamspamspam"
   ]
  },
  {
   "cell_type": "markdown",
   "id": "25f12582-8cff-4217-816b-ce20946b3ad8",
   "metadata": {},
   "source": [
    "**8.**  \n",
    "variable names cannot begin with a number"
   ]
  },
  {
   "cell_type": "markdown",
   "id": "ab53cc5b-7354-46a5-a00f-8fc55ebba2e7",
   "metadata": {},
   "source": [
    "**9.**  \n",
    "int()  \n",
    "float()  \n",
    "str()"
   ]
  },
  {
   "cell_type": "markdown",
   "id": "6512eea9-4615-4ca8-b7f8-81384552f4d4",
   "metadata": {},
   "source": [
    "**10.**  \n",
    "it causes an error because yo are trying to concatenate a string ('I have eaten ') with an integer (99).   \n",
    "alternative :- _print(\"i have eaten\"+str(99)+\"burritos\")_"
   ]
  },
  {
   "cell_type": "code",
   "execution_count": null,
   "id": "2002027a-d97e-4f3a-b73e-1571deebb187",
   "metadata": {},
   "outputs": [],
   "source": []
  }
 ],
 "metadata": {
  "kernelspec": {
   "display_name": "Python 3 (ipykernel)",
   "language": "python",
   "name": "python3"
  },
  "language_info": {
   "codemirror_mode": {
    "name": "ipython",
    "version": 3
   },
   "file_extension": ".py",
   "mimetype": "text/x-python",
   "name": "python",
   "nbconvert_exporter": "python",
   "pygments_lexer": "ipython3",
   "version": "3.10.6"
  }
 },
 "nbformat": 4,
 "nbformat_minor": 5
}
