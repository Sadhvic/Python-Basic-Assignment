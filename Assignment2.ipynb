{
 "cells": [
  {
   "cell_type": "markdown",
   "id": "43c24bd3-556f-4e2b-b9ec-9c4fb153fc65",
   "metadata": {},
   "source": [
    "1.  \n",
    "The Boolean data type represents two values: true and false. These values are used to represent logical conditions or the outcome of comparisons  \n",
    "**True**  \n",
    "**False**"
   ]
  },
  {
   "cell_type": "markdown",
   "id": "b1caf8db-9660-47fd-8075-81afa5686245",
   "metadata": {},
   "source": [
    "2.  \n",
    "Logical AND  \n",
    "Logical OR  \n",
    "Logical NOT"
   ]
  },
  {
   "cell_type": "markdown",
   "id": "27f0be96-6de6-43c6-ae1f-9ba39073c919",
   "metadata": {},
   "source": [
    "3. **AND**  \n",
    "| Operand 1  | Operand 2 | Result |\n",
    "|------------|-----------|--------|\n",
    "|   True     |\t   True  |\t  True|  \n",
    "|True\t     |False\t     |False\n",
    "|False\t     |True\t     |False\n",
    "|False\t     |False\t     |  False\n",
    "\n",
    "**OR**  \n",
    "| Operand 1  | Operand 2 | Result |\n",
    "|------------|-----------|--------|\n",
    "|True\t     |True       |\tTrue\n",
    "True\t     |  False\t | True\n",
    "False\t     | True\t     | True\n",
    "False\t     |False\t     |False\n",
    "\n",
    "**NOT**   \n",
    "\n",
    "| Operand |\tResult |  \n",
    "|---------|--------|\n",
    "True\t  |False\n",
    "False\t  |True"
   ]
  },
  {
   "cell_type": "markdown",
   "id": "5c92c28f-1a74-4413-890c-063f304c42fd",
   "metadata": {},
   "source": [
    "4."
   ]
  },
  {
   "cell_type": "code",
   "execution_count": 1,
   "id": "fd1708c5-47ee-480b-9bd0-1b1bd732eaf9",
   "metadata": {},
   "outputs": [
    {
     "data": {
      "text/plain": [
       "False"
      ]
     },
     "execution_count": 1,
     "metadata": {},
     "output_type": "execute_result"
    }
   ],
   "source": [
    "(5 > 4) and (3 == 5)"
   ]
  },
  {
   "cell_type": "code",
   "execution_count": 2,
   "id": "c86d0cd8-dd20-43eb-8cfe-502bbe15d6c9",
   "metadata": {},
   "outputs": [
    {
     "data": {
      "text/plain": [
       "False"
      ]
     },
     "execution_count": 2,
     "metadata": {},
     "output_type": "execute_result"
    }
   ],
   "source": [
    "not (5 > 4)"
   ]
  },
  {
   "cell_type": "code",
   "execution_count": 3,
   "id": "8db40268-26d3-40f9-856e-e5147271c059",
   "metadata": {},
   "outputs": [
    {
     "data": {
      "text/plain": [
       "True"
      ]
     },
     "execution_count": 3,
     "metadata": {},
     "output_type": "execute_result"
    }
   ],
   "source": [
    "(5 > 4) or (3 == 5)"
   ]
  },
  {
   "cell_type": "code",
   "execution_count": 4,
   "id": "ef29b5aa-fd05-4431-984b-d8327bebb208",
   "metadata": {},
   "outputs": [
    {
     "data": {
      "text/plain": [
       "False"
      ]
     },
     "execution_count": 4,
     "metadata": {},
     "output_type": "execute_result"
    }
   ],
   "source": [
    "not ((5 > 4) or (3 == 5))"
   ]
  },
  {
   "cell_type": "code",
   "execution_count": 5,
   "id": "08eb2a34-dd8a-43af-ae17-e0a8f4a42436",
   "metadata": {},
   "outputs": [
    {
     "data": {
      "text/plain": [
       "False"
      ]
     },
     "execution_count": 5,
     "metadata": {},
     "output_type": "execute_result"
    }
   ],
   "source": [
    "(True and True) and (True == False)"
   ]
  },
  {
   "cell_type": "code",
   "execution_count": 6,
   "id": "c5441f4b-7d9a-4c11-b97e-dc54834ec329",
   "metadata": {},
   "outputs": [
    {
     "data": {
      "text/plain": [
       "True"
      ]
     },
     "execution_count": 6,
     "metadata": {},
     "output_type": "execute_result"
    }
   ],
   "source": [
    "(not False) or (not True)"
   ]
  },
  {
   "cell_type": "markdown",
   "id": "49516506-8b61-442f-ac25-d269831333da",
   "metadata": {},
   "source": [
    "5. \n",
    "* equal to ==  \n",
    "* not equal !=    \n",
    "* less than <      \n",
    "* greater than >      \n",
    "* less than or equal to<=     \n",
    "* greater than or equal to:- >=      \n"
   ]
  },
  {
   "cell_type": "markdown",
   "id": "1f201b82-dfee-44f3-8e1b-2b40603c07a5",
   "metadata": {},
   "source": [
    "6.    \n",
    "The equal to (==) operator is a comparison operator used to check if two values are equal. It returns True if the values are equal and False otherwise"
   ]
  },
  {
   "cell_type": "code",
   "execution_count": 10,
   "id": "34f32570-3a61-4fa2-b01c-378ae3130ee8",
   "metadata": {},
   "outputs": [
    {
     "name": "stdout",
     "output_type": "stream",
     "text": [
      "x not equal to y\n"
     ]
    }
   ],
   "source": [
    "x=4\n",
    "y=10\n",
    "if x==y:\n",
    "    print(\"x equal to y\")\n",
    "else:\n",
    "    print(\"x not equal to y\")"
   ]
  },
  {
   "cell_type": "markdown",
   "id": "c9b342aa-e4fa-4dcf-a409-f8b9e4642f73",
   "metadata": {},
   "source": [
    "The assignment (=) operator is used to assign a value to a variable. It assigns the value on the right side of the operator to the variable on the left side"
   ]
  },
  {
   "cell_type": "code",
   "execution_count": 9,
   "id": "ada3a8f7-eb75-47e9-95cd-38f725fee8b5",
   "metadata": {},
   "outputs": [
    {
     "name": "stdout",
     "output_type": "stream",
     "text": [
      "15\n"
     ]
    }
   ],
   "source": [
    "x=5\n",
    "y=x+10\n",
    "print(y)"
   ]
  },
  {
   "cell_type": "markdown",
   "id": "93f9f65e-b90f-451e-a93b-18451627a4e5",
   "metadata": {},
   "source": [
    "7.\n",
    "*  if spam==10:\n",
    "*  if spam >5:\n",
    "* else:"
   ]
  },
  {
   "cell_type": "markdown",
   "id": "f915a07e-29e1-4d01-a797-292a509e8fb6",
   "metadata": {},
   "source": [
    "8."
   ]
  },
  {
   "cell_type": "code",
   "execution_count": 14,
   "id": "88bbc998-0967-4bc4-a31c-ec2f42cf8187",
   "metadata": {},
   "outputs": [
    {
     "name": "stdin",
     "output_type": "stream",
     "text": [
      " 2\n"
     ]
    },
    {
     "name": "stdout",
     "output_type": "stream",
     "text": [
      "Howdy\n"
     ]
    }
   ],
   "source": [
    "spam=int(input())\n",
    "if spam==1:\n",
    "    print(\"Hello\")\n",
    "elif spam==2:\n",
    "    print(\"Howdy\")\n",
    "else:\n",
    "    print(\"greetings\")"
   ]
  },
  {
   "cell_type": "code",
   "execution_count": null,
   "id": "76b4276f-99e6-456e-ae6d-14a599f48383",
   "metadata": {},
   "outputs": [],
   "source": []
  }
 ],
 "metadata": {
  "kernelspec": {
   "display_name": "Python 3 (ipykernel)",
   "language": "python",
   "name": "python3"
  },
  "language_info": {
   "codemirror_mode": {
    "name": "ipython",
    "version": 3
   },
   "file_extension": ".py",
   "mimetype": "text/x-python",
   "name": "python",
   "nbconvert_exporter": "python",
   "pygments_lexer": "ipython3",
   "version": "3.10.6"
  }
 },
 "nbformat": 4,
 "nbformat_minor": 5
}
